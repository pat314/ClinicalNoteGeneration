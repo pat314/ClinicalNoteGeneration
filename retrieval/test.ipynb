{
 "cells": [
  {
   "cell_type": "code",
   "execution_count": 1,
   "metadata": {},
   "outputs": [
    {
     "data": {
      "text/html": [
       "<div>\n",
       "<style scoped>\n",
       "    .dataframe tbody tr th:only-of-type {\n",
       "        vertical-align: middle;\n",
       "    }\n",
       "\n",
       "    .dataframe tbody tr th {\n",
       "        vertical-align: top;\n",
       "    }\n",
       "\n",
       "    .dataframe thead th {\n",
       "        text-align: right;\n",
       "    }\n",
       "</style>\n",
       "<table border=\"1\" class=\"dataframe\">\n",
       "  <thead>\n",
       "    <tr style=\"text-align: right;\">\n",
       "      <th></th>\n",
       "      <th>encounter_id</th>\n",
       "      <th>dialogue</th>\n",
       "      <th>clean_dialogue</th>\n",
       "    </tr>\n",
       "  </thead>\n",
       "  <tbody>\n",
       "    <tr>\n",
       "      <th>0</th>\n",
       "      <td>[doctor]</td>\n",
       "      <td>hi, martha . how are you ?</td>\n",
       "      <td>hi, martha . how are you ?</td>\n",
       "    </tr>\n",
       "    <tr>\n",
       "      <th>1</th>\n",
       "      <td>[patient]</td>\n",
       "      <td>i'm um doing okay . how are you ?</td>\n",
       "      <td>i am  doing okay . how are you ?</td>\n",
       "    </tr>\n",
       "    <tr>\n",
       "      <th>2</th>\n",
       "      <td>[patient]</td>\n",
       "      <td>okay .</td>\n",
       "      <td>okay .</td>\n",
       "    </tr>\n",
       "    <tr>\n",
       "      <th>3</th>\n",
       "      <td>[doctor]</td>\n",
       "      <td>martha is a 50-year-old female with a past med...</td>\n",
       "      <td>martha is a 50-year-old female with a past med...</td>\n",
       "    </tr>\n",
       "    <tr>\n",
       "      <th>4</th>\n",
       "      <td>[patient]</td>\n",
       "      <td>i'm doing well . i've been traveling a lot rec...</td>\n",
       "      <td>i am doing  . i have been traveling a lot rece...</td>\n",
       "    </tr>\n",
       "    <tr>\n",
       "      <th>5</th>\n",
       "      <td>[doctor]</td>\n",
       "      <td>nice . that's great . i'm glad to hear that yo...</td>\n",
       "      <td>nice . that's great . i am glad to hear that y...</td>\n",
       "    </tr>\n",
       "    <tr>\n",
       "      <th>6</th>\n",
       "      <td>[patient]</td>\n",
       "      <td>yes , fall foliage is the best .</td>\n",
       "      <td>yes , fall foliage is the best .</td>\n",
       "    </tr>\n",
       "  </tbody>\n",
       "</table>\n",
       "</div>"
      ],
      "text/plain": [
       "  encounter_id                                           dialogue  \\\n",
       "0     [doctor]                         hi, martha . how are you ?   \n",
       "1    [patient]                  i'm um doing okay . how are you ?   \n",
       "2    [patient]                                             okay .   \n",
       "3     [doctor]  martha is a 50-year-old female with a past med...   \n",
       "4    [patient]  i'm doing well . i've been traveling a lot rec...   \n",
       "5     [doctor]  nice . that's great . i'm glad to hear that yo...   \n",
       "6    [patient]                   yes , fall foliage is the best .   \n",
       "\n",
       "                                      clean_dialogue  \n",
       "0                         hi, martha . how are you ?  \n",
       "1                   i am  doing okay . how are you ?  \n",
       "2                                             okay .  \n",
       "3  martha is a 50-year-old female with a past med...  \n",
       "4  i am doing  . i have been traveling a lot rece...  \n",
       "5  nice . that's great . i am glad to hear that y...  \n",
       "6                   yes , fall foliage is the best .  "
      ]
     },
     "execution_count": 1,
     "metadata": {},
     "output_type": "execute_result"
    }
   ],
   "source": [
    "import pandas as pd \n",
    "import numpy as np\n",
    "import matplotlib.pyplot as plt\n",
    "\n",
    "df = pd.read_csv(\"cleaned_output.csv\")\n",
    "df"
   ]
  },
  {
   "cell_type": "code",
   "execution_count": 2,
   "metadata": {},
   "outputs": [],
   "source": [
    "from utterance_encoder import sbert_encoder\n",
    "from similarity_calc import cossim_score"
   ]
  },
  {
   "cell_type": "code",
   "execution_count": 3,
   "metadata": {},
   "outputs": [],
   "source": [
    "sentences = df[\"clean_dialogue\"]"
   ]
  },
  {
   "cell_type": "code",
   "execution_count": 4,
   "metadata": {},
   "outputs": [
    {
     "data": {
      "text/plain": [
       "0                           hi, martha . how are you ?\n",
       "1                     i am  doing okay . how are you ?\n",
       "2                                               okay .\n",
       "3    martha is a 50-year-old female with a past med...\n",
       "4    i am doing  . i have been traveling a lot rece...\n",
       "5    nice . that's great . i am glad to hear that y...\n",
       "6                     yes , fall foliage is the best .\n",
       "Name: clean_dialogue, dtype: object"
      ]
     },
     "execution_count": 4,
     "metadata": {},
     "output_type": "execute_result"
    }
   ],
   "source": [
    "sentences"
   ]
  },
  {
   "cell_type": "code",
   "execution_count": 5,
   "metadata": {},
   "outputs": [
    {
     "name": "stderr",
     "output_type": "stream",
     "text": [
      "/Library/Frameworks/Python.framework/Versions/3.9/lib/python3.9/site-packages/transformers/tokenization_utils_base.py:1601: FutureWarning: `clean_up_tokenization_spaces` was not set. It will be set to `True` by default. This behavior will be depracted in transformers v4.45, and will be then set to `False` by default. For more details check this issue: https://github.com/huggingface/transformers/issues/31884\n",
      "  warnings.warn(\n"
     ]
    }
   ],
   "source": [
    "s = sbert_encoder(list(sentences))"
   ]
  },
  {
   "cell_type": "code",
   "execution_count": 6,
   "metadata": {},
   "outputs": [
    {
     "data": {
      "text/plain": [
       "tensor([[ 0.0007,  0.0050,  0.0463,  ..., -0.0058, -0.0588, -0.0091],\n",
       "        [ 0.0408, -0.0213,  0.0880,  ..., -0.0218, -0.0477, -0.0120],\n",
       "        [-0.0672, -0.0489, -0.0638,  ...,  0.0107,  0.0630,  0.0226],\n",
       "        ...,\n",
       "        [ 0.0685, -0.0107,  0.0607,  ..., -0.0976, -0.1115, -0.0232],\n",
       "        [ 0.0327, -0.0562,  0.1385,  ..., -0.0290, -0.1636,  0.0963],\n",
       "        [ 0.0322,  0.0175,  0.0756,  ..., -0.0974,  0.0419,  0.1103]])"
      ]
     },
     "execution_count": 6,
     "metadata": {},
     "output_type": "execute_result"
    }
   ],
   "source": [
    "s"
   ]
  },
  {
   "cell_type": "code",
   "execution_count": 7,
   "metadata": {},
   "outputs": [
    {
     "data": {
      "text/plain": [
       "array([[1.        , 0.94515902, 0.89860529, 0.95689517, 0.89430153,\n",
       "        0.91770887, 0.8966971 ],\n",
       "       [0.94515902, 1.        , 0.9009409 , 0.9427653 , 0.90541208,\n",
       "        0.92497379, 0.88371265],\n",
       "       [0.89860529, 0.9009409 , 1.        , 0.91291785, 0.88942462,\n",
       "        0.90269595, 0.90037781],\n",
       "       [0.95689517, 0.9427653 , 0.91291785, 1.        , 0.92331362,\n",
       "        0.94234502, 0.91880065],\n",
       "       [0.89430153, 0.90541208, 0.88942462, 0.92331362, 1.        ,\n",
       "        0.93734878, 0.92208415],\n",
       "       [0.91770887, 0.92497379, 0.90269595, 0.94234502, 0.93734878,\n",
       "        1.        , 0.9405902 ],\n",
       "       [0.8966971 , 0.88371265, 0.90037781, 0.91880065, 0.92208415,\n",
       "        0.9405902 , 1.        ]])"
      ]
     },
     "execution_count": 7,
     "metadata": {},
     "output_type": "execute_result"
    }
   ],
   "source": [
    "cossim_score(s)"
   ]
  },
  {
   "cell_type": "code",
   "execution_count": 8,
   "metadata": {},
   "outputs": [
    {
     "data": {
      "text/plain": [
       "<matplotlib.image.AxesImage at 0x7f7c78b70760>"
      ]
     },
     "execution_count": 8,
     "metadata": {},
     "output_type": "execute_result"
    },
    {
     "data": {
      "image/png": "[encoded data removed]",
      "text/plain": [
       "<Figure size 432x288 with 1 Axes>"
      ]
     },
     "metadata": {
      "needs_background": "light"
     },
     "output_type": "display_data"
    }
   ],
   "source": [
    "plt.imshow(cossim_score(s), cmap='hot', interpolation='nearest')"
   ]
  },
  {
   "cell_type": "code",
   "execution_count": null,
   "metadata": {},
   "outputs": [],
   "source": []
  },
  {
   "cell_type": "code",
   "execution_count": null,
   "metadata": {},
   "outputs": [],
   "source": []
  }
 ],
 "metadata": {
  "kernelspec": {
   "display_name": "Python 3",
   "language": "python",
   "name": "python3"
  },
  "language_info": {
   "codemirror_mode": {
    "name": "ipython",
    "version": 3
   },
   "file_extension": ".py",
   "mimetype": "text/x-python",
   "name": "python",
   "nbconvert_exporter": "python",
   "pygments_lexer": "ipython3",
   "version": "3.9.7"
  }
 },
 "nbformat": 4,
 "nbformat_minor": 2
}
