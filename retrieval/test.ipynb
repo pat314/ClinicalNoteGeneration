{
 "cells": [
  {
   "cell_type": "code",
   "execution_count": 1,
   "metadata": {},
   "outputs": [
    {
     "data": {
      "text/html": [
       "<div>\n",
       "<style scoped>\n",
       "    .dataframe tbody tr th:only-of-type {\n",
       "        vertical-align: middle;\n",
       "    }\n",
       "\n",
       "    .dataframe tbody tr th {\n",
       "        vertical-align: top;\n",
       "    }\n",
       "\n",
       "    .dataframe thead th {\n",
       "        text-align: right;\n",
       "    }\n",
       "</style>\n",
       "<table border=\"1\" class=\"dataframe\">\n",
       "  <thead>\n",
       "    <tr style=\"text-align: right;\">\n",
       "      <th></th>\n",
       "      <th>encounter_id</th>\n",
       "      <th>dialogue</th>\n",
       "      <th>clean_dialogue</th>\n",
       "    </tr>\n",
       "  </thead>\n",
       "  <tbody>\n",
       "    <tr>\n",
       "      <th>0</th>\n",
       "      <td>[doctor]</td>\n",
       "      <td>hi, martha . how are you ?</td>\n",
       "      <td>hi, martha . how are you ?</td>\n",
       "    </tr>\n",
       "    <tr>\n",
       "      <th>1</th>\n",
       "      <td>[patient]</td>\n",
       "      <td>i'm um doing okay . how are you ?</td>\n",
       "      <td>i am  doing okay . how are you ?</td>\n",
       "    </tr>\n",
       "    <tr>\n",
       "      <th>2</th>\n",
       "      <td>[patient]</td>\n",
       "      <td>okay .</td>\n",
       "      <td>okay .</td>\n",
       "    </tr>\n",
       "    <tr>\n",
       "      <th>3</th>\n",
       "      <td>[doctor]</td>\n",
       "      <td>martha is a 50-year-old female with a past med...</td>\n",
       "      <td>martha is a 50-year-old female with a past med...</td>\n",
       "    </tr>\n",
       "    <tr>\n",
       "      <th>4</th>\n",
       "      <td>[patient]</td>\n",
       "      <td>i'm doing well . i've been traveling a lot rec...</td>\n",
       "      <td>i am doing  . i have been traveling a lot rece...</td>\n",
       "    </tr>\n",
       "    <tr>\n",
       "      <th>5</th>\n",
       "      <td>[doctor]</td>\n",
       "      <td>nice . that's great . i'm glad to hear that yo...</td>\n",
       "      <td>nice . that's great . i am glad to hear that y...</td>\n",
       "    </tr>\n",
       "    <tr>\n",
       "      <th>6</th>\n",
       "      <td>[patient]</td>\n",
       "      <td>yes , fall foliage is the best .</td>\n",
       "      <td>yes , fall foliage is the best .</td>\n",
       "    </tr>\n",
       "  </tbody>\n",
       "</table>\n",
       "</div>"
      ],
      "text/plain": [
       "  encounter_id                                           dialogue  \\\n",
       "0     [doctor]                         hi, martha . how are you ?   \n",
       "1    [patient]                  i'm um doing okay . how are you ?   \n",
       "2    [patient]                                             okay .   \n",
       "3     [doctor]  martha is a 50-year-old female with a past med...   \n",
       "4    [patient]  i'm doing well . i've been traveling a lot rec...   \n",
       "5     [doctor]  nice . that's great . i'm glad to hear that yo...   \n",
       "6    [patient]                   yes , fall foliage is the best .   \n",
       "\n",
       "                                      clean_dialogue  \n",
       "0                         hi, martha . how are you ?  \n",
       "1                   i am  doing okay . how are you ?  \n",
       "2                                             okay .  \n",
       "3  martha is a 50-year-old female with a past med...  \n",
       "4  i am doing  . i have been traveling a lot rece...  \n",
       "5  nice . that's great . i am glad to hear that y...  \n",
       "6                   yes , fall foliage is the best .  "
      ]
     },
     "execution_count": 1,
     "metadata": {},
     "output_type": "execute_result"
    }
   ],
   "source": [
    "import pandas as pd \n",
    "import numpy as np\n",
    "\n",
    "df = pd.read_csv(\"cleaned_output.csv\")\n",
    "df"
   ]
  },
  {
   "cell_type": "code",
   "execution_count": 4,
   "metadata": {},
   "outputs": [],
   "source": [
    "from encoder import sbert_encoder"
   ]
  },
  {
   "cell_type": "code",
   "execution_count": 5,
   "metadata": {},
   "outputs": [],
   "source": [
    "sentences = df[\"clean_dialogue\"]"
   ]
  },
  {
   "cell_type": "code",
   "execution_count": 6,
   "metadata": {},
   "outputs": [
    {
     "data": {
      "text/plain": [
       "0                           hi, martha . how are you ?\n",
       "1                     i am  doing okay . how are you ?\n",
       "2                                               okay .\n",
       "3    martha is a 50-year-old female with a past med...\n",
       "4    i am doing  . i have been traveling a lot rece...\n",
       "5    nice . that's great . i am glad to hear that y...\n",
       "6                     yes , fall foliage is the best .\n",
       "Name: clean_dialogue, dtype: object"
      ]
     },
     "execution_count": 6,
     "metadata": {},
     "output_type": "execute_result"
    }
   ],
   "source": [
    "sentences"
   ]
  },
  {
   "cell_type": "code",
   "execution_count": 7,
   "metadata": {},
   "outputs": [
    {
     "name": "stderr",
     "output_type": "stream",
     "text": [
      "/Library/Frameworks/Python.framework/Versions/3.9/lib/python3.9/site-packages/transformers/tokenization_utils_base.py:1601: FutureWarning: `clean_up_tokenization_spaces` was not set. It will be set to `True` by default. This behavior will be depracted in transformers v4.45, and will be then set to `False` by default. For more details check this issue: https://github.com/huggingface/transformers/issues/31884\n",
      "  warnings.warn(\n"
     ]
    }
   ],
   "source": [
    "s = sbert_encoder(list(sentences))"
   ]
  },
  {
   "cell_type": "code",
   "execution_count": 11,
   "metadata": {},
   "outputs": [
    {
     "data": {
      "text/plain": [
       "tensor([[ 0.0007,  0.0050,  0.0463,  ..., -0.0058, -0.0588, -0.0091],\n",
       "        [ 0.0408, -0.0213,  0.0880,  ..., -0.0218, -0.0477, -0.0120],\n",
       "        [-0.0672, -0.0489, -0.0638,  ...,  0.0107,  0.0630,  0.0226],\n",
       "        ...,\n",
       "        [ 0.0685, -0.0107,  0.0607,  ..., -0.0976, -0.1115, -0.0232],\n",
       "        [ 0.0327, -0.0562,  0.1385,  ..., -0.0290, -0.1636,  0.0963],\n",
       "        [ 0.0322,  0.0175,  0.0756,  ..., -0.0974,  0.0419,  0.1103]])"
      ]
     },
     "execution_count": 11,
     "metadata": {},
     "output_type": "execute_result"
    }
   ],
   "source": [
    "s"
   ]
  },
  {
   "cell_type": "code",
   "execution_count": 58,
   "metadata": {},
   "outputs": [],
   "source": [
    "def _L2_norm(array): \n",
    "      \"\"\"\n",
    "      Input:\n",
    "      array -- np.ndarray: array of data\n",
    "      Hypothesis: L2 norm\n",
    "\n",
    "      ---------------------------\n",
    "      Ouput:\n",
    "      res -- int: L2 norm of `array`\n",
    "      \"\"\"\n",
    "      return np.sqrt(np.sum(abs(array)**2))"
   ]
  },
  {
   "cell_type": "code",
   "execution_count": 10,
   "metadata": {},
   "outputs": [],
   "source": [
    "def _normalization(df) : \n",
    "    \"\"\"\n",
    "    Input:\n",
    "    df -- pd.DataFrame: input data to normalize\n",
    "\n",
    "    ---------------------------\n",
    "    Ouput:\n",
    "    df_normalized -- pd.DataFrame: normalized dataframe\n",
    "    \"\"\"\n",
    "    # define matrix\n",
    "    mat = []\n",
    "\n",
    "    # iteration\n",
    "    for i in range(len(s)): \n",
    "      min_val = s[i].min()\n",
    "      max_val = s[i].max()\n",
    "\n",
    "      mat.append((s[0] - min_val) / (max_val - min_val))\n",
    "    \n",
    "    return np.array(mat)"
   ]
  },
  {
   "cell_type": "code",
   "execution_count": 12,
   "metadata": {},
   "outputs": [
    {
     "data": {
      "text/plain": [
       "array([[0.4218373 , 0.43611857, 0.57452637, ..., 0.39991266, 0.22208741,\n",
       "        0.3888346 ],\n",
       "       [0.47634953, 0.49259862, 0.6500773 , ..., 0.45140395, 0.24907652,\n",
       "        0.43879947],\n",
       "       [0.48069897, 0.4952738 , 0.63652617, ..., 0.45832375, 0.2768438 ,\n",
       "        0.44701803],\n",
       "       ...,\n",
       "       [0.49362743, 0.50898147, 0.65778583, ..., 0.4700559 , 0.27887326,\n",
       "        0.45814574],\n",
       "       [0.5414827 , 0.55551445, 0.69150406, ..., 0.5199411 , 0.34522268,\n",
       "        0.5090566 ],\n",
       "       [0.54303604, 0.55720615, 0.6945367 , ..., 0.521282  , 0.34484082,\n",
       "        0.5102902 ]], dtype=float32)"
      ]
     },
     "execution_count": 12,
     "metadata": {},
     "output_type": "execute_result"
    }
   ],
   "source": [
    "_normalization(s)"
   ]
  },
  {
   "cell_type": "code",
   "execution_count": 45,
   "metadata": {},
   "outputs": [],
   "source": [
    "s1 = np.array(s[1])"
   ]
  },
  {
   "cell_type": "code",
   "execution_count": 46,
   "metadata": {},
   "outputs": [
    {
     "data": {
      "text/plain": [
       "1.0"
      ]
     },
     "execution_count": 46,
     "metadata": {},
     "output_type": "execute_result"
    }
   ],
   "source": [
    "np.sqrt(np.sum(s1**2))"
   ]
  },
  {
   "cell_type": "code",
   "execution_count": 49,
   "metadata": {},
   "outputs": [
    {
     "data": {
      "text/plain": [
       "array([ 4.08028774e-02, -2.13074852e-02,  8.80460665e-02,  2.53384504e-02,\n",
       "        1.39167923e-02, -4.40274738e-02,  2.26458404e-02, -2.00595781e-02,\n",
       "       -7.57875666e-02,  8.55630264e-03, -4.06589881e-02,  3.16881835e-02,\n",
       "       -3.67900096e-02,  1.23269549e-02, -2.11269185e-02,  1.39302956e-02,\n",
       "        1.15633290e-02, -1.05967000e-01, -1.22093715e-01,  9.27277282e-02,\n",
       "       -4.13894579e-02,  4.64753844e-02,  5.94385862e-02,  6.55205101e-02,\n",
       "       -7.94472322e-02,  4.83352728e-02, -4.11492512e-02, -2.90736407e-02,\n",
       "        5.25251850e-02, -6.47453666e-02, -1.09881699e-01, -4.26362455e-02,\n",
       "       -4.00191871e-03, -2.45451219e-02, -3.81387100e-02,  2.14359928e-02,\n",
       "        1.32845074e-03, -1.19451337e-01,  4.00918387e-02, -4.08803811e-03,\n",
       "        3.05470880e-02, -1.01599225e-03, -2.66055781e-02, -3.01716197e-02,\n",
       "        8.07374120e-02, -5.51033616e-02,  1.08014261e-02,  3.73430438e-02,\n",
       "        8.99440199e-02, -3.13004665e-02, -6.73901960e-02,  5.51960208e-02,\n",
       "       -5.69284968e-02,  7.59652257e-02,  7.95129612e-02,  3.31026502e-02,\n",
       "       -8.77963030e-04, -1.18873240e-02,  4.40855473e-02, -2.58788820e-02,\n",
       "        5.54193556e-02,  2.82697994e-02, -2.05437653e-02,  6.13579229e-02,\n",
       "       -2.43289825e-02, -1.46660609e-02, -7.18644783e-02, -5.76662011e-02,\n",
       "       -7.08336607e-02,  5.99495433e-02, -3.99334542e-02, -6.19293898e-02,\n",
       "       -1.45215979e-02,  6.83026295e-03, -4.74380702e-02, -2.21681613e-02,\n",
       "        2.90112235e-02, -3.23330574e-02,  7.53311515e-02,  2.75906231e-02,\n",
       "        4.27669547e-02, -7.54069388e-02,  4.45536710e-02,  1.41126420e-02,\n",
       "       -3.94755788e-02, -1.33389197e-02,  1.75410304e-02,  4.11230177e-02,\n",
       "        3.90187614e-02,  2.89374366e-02, -4.96424772e-02,  1.20272361e-01,\n",
       "       -2.62964610e-02, -3.72908660e-03,  5.68938740e-02, -9.53889824e-03,\n",
       "        3.06677297e-02, -5.88846905e-03, -8.72483030e-02,  1.01234846e-01,\n",
       "        4.72932942e-02,  1.29134715e-01,  2.79209781e-02, -7.35593289e-02,\n",
       "       -5.52886203e-02,  6.31465614e-02, -6.45808876e-03,  1.30241156e-01,\n",
       "       -4.17190939e-02, -5.62154613e-02, -1.13986870e-02, -1.46725669e-03,\n",
       "       -4.51121293e-02,  1.66562218e-02,  7.90051371e-02,  1.68063119e-02,\n",
       "        1.95945818e-02,  5.98232746e-02,  4.28764708e-02,  8.44643787e-02,\n",
       "        3.23262624e-03,  4.71586101e-02,  1.18931867e-02,  4.99809496e-02,\n",
       "       -3.57213505e-02,  3.44184972e-02,  6.43507540e-02, -6.45815274e-33,\n",
       "        1.32069558e-01, -2.23860946e-02,  9.86112058e-02,  1.16270088e-01,\n",
       "       -6.86688498e-02,  3.52974497e-02, -3.66507694e-02, -2.87120584e-02,\n",
       "        2.84859948e-02,  1.27395596e-02,  5.68927117e-02,  4.80232574e-03,\n",
       "       -1.62220895e-02, -1.87761039e-02, -2.19760295e-02, -1.61136072e-02,\n",
       "       -2.02509724e-02,  2.13153772e-02, -7.72482064e-03,  1.38027966e-01,\n",
       "        2.71424521e-02, -1.21978343e-01, -2.50716824e-02,  7.43382499e-02,\n",
       "        4.24581505e-02,  9.16869938e-03,  5.24335429e-02, -6.08875528e-02,\n",
       "       -1.90945398e-02,  5.37784654e-04, -9.78736579e-02,  2.17203237e-03,\n",
       "        3.58612053e-02, -1.78370625e-02, -1.51245845e-02, -4.95007969e-02,\n",
       "       -4.25117053e-02,  2.84362342e-02, -8.01139325e-03, -9.01806541e-03,\n",
       "       -2.19771899e-02,  3.15066352e-02,  7.16525614e-02, -6.58667758e-02,\n",
       "       -4.71978225e-02, -2.47611050e-02, -1.99326258e-02, -3.80967883e-03,\n",
       "       -2.69436426e-02, -3.58823724e-02, -7.78684318e-02,  1.55768013e-02,\n",
       "       -3.60619128e-02,  1.30686839e-03, -1.76401585e-02,  1.98909249e-02,\n",
       "       -7.44966641e-02,  5.58525622e-02,  5.78607505e-05,  2.88889967e-02,\n",
       "        6.08419180e-02,  7.89680034e-02, -4.35636826e-02, -8.89914185e-02,\n",
       "       -6.37671500e-02, -1.98086314e-02, -2.10388619e-02, -1.00019183e-02,\n",
       "        2.85478439e-02, -6.50414303e-02,  5.22639416e-03, -2.17860267e-02,\n",
       "        6.28728536e-04,  4.43133898e-02,  7.46627003e-02,  3.99828814e-02,\n",
       "       -5.35960719e-02, -5.02000079e-02, -5.80443069e-02,  1.99647690e-03,\n",
       "        7.02484548e-02,  7.04899430e-02,  1.95311233e-02, -7.56618008e-02,\n",
       "        1.98805816e-02, -2.11799685e-02, -5.43538705e-02, -1.60299074e-02,\n",
       "       -1.15325339e-02,  6.10324442e-02,  1.08007202e-02,  9.56216827e-02,\n",
       "        4.83637005e-02,  7.31451996e-03, -1.24137193e-01,  4.52480322e-33,\n",
       "        1.06226683e-01,  3.57335098e-02, -1.42983804e-02,  4.17237505e-02,\n",
       "       -1.05376504e-01, -7.26551786e-02, -2.20607538e-02,  5.63581623e-02,\n",
       "       -1.84322987e-02, -1.37454560e-02,  2.46886034e-02,  1.18756192e-02,\n",
       "        1.39119988e-02, -1.72009859e-02,  2.75821220e-02, -5.06311618e-02,\n",
       "        4.15417552e-02,  6.37717471e-02, -3.51834781e-02, -2.55120415e-02,\n",
       "       -9.46033299e-02,  1.13110758e-01, -4.99608554e-02,  6.56520426e-02,\n",
       "       -2.60196946e-04,  4.48229872e-02, -3.89669612e-02,  6.50937557e-02,\n",
       "        1.49200140e-02, -3.16375820e-03,  2.52849441e-02, -6.10421002e-02,\n",
       "       -2.25917809e-02,  4.70761433e-02,  5.02769947e-02,  7.94309773e-04,\n",
       "       -1.04357246e-02, -7.11808652e-02, -7.25452155e-02, -9.43531916e-02,\n",
       "       -2.36936882e-02,  2.34971270e-02, -3.62656489e-02,  8.97659138e-02,\n",
       "        9.44634154e-02, -4.40055989e-02,  3.60399820e-02, -4.38679475e-03,\n",
       "       -3.65098640e-02,  2.05627941e-02, -7.18297437e-03, -2.09457949e-02,\n",
       "       -1.10155670e-02,  2.32759565e-02,  9.54117253e-02,  2.36812774e-02,\n",
       "       -2.52105352e-02, -8.47402513e-02, -5.95610850e-02, -3.42267342e-02,\n",
       "       -1.07509084e-01,  2.08150893e-02,  1.46835092e-02,  9.57026798e-03,\n",
       "        5.56620248e-02, -2.57318374e-02,  1.14167137e-02, -1.94923431e-02,\n",
       "        3.75239784e-03, -6.29198551e-02, -6.25626966e-02, -4.72823568e-02,\n",
       "       -7.91687220e-02, -4.61545326e-02,  2.53502075e-02,  2.87664607e-02,\n",
       "       -5.84759575e-04, -3.24287303e-02, -1.89754218e-02,  2.14516055e-02,\n",
       "       -8.73620622e-03,  9.32625085e-02,  7.39434222e-03, -9.39395949e-02,\n",
       "       -6.12879805e-02, -7.79868588e-02,  5.67713603e-02,  7.29337037e-02,\n",
       "       -3.23118083e-02,  4.91541289e-02, -6.09458797e-03,  3.06720808e-02,\n",
       "       -1.49912015e-02, -1.27800908e-02,  7.22808391e-02, -1.56580526e-08,\n",
       "        4.95541804e-02,  1.79697352e-03, -3.91080715e-02, -2.27992032e-02,\n",
       "       -5.71728908e-02,  1.25747398e-02, -4.79971208e-02,  3.70669886e-02,\n",
       "       -1.14661762e-02, -5.13258912e-02, -1.88722438e-03, -4.91207987e-02,\n",
       "       -6.88093752e-02, -9.64374915e-02,  3.27611417e-02, -3.32353916e-03,\n",
       "        4.21983600e-02,  9.13203806e-02, -3.64840403e-02, -5.08129336e-02,\n",
       "        2.61971895e-02,  1.84753407e-02, -2.61478256e-02,  1.27496883e-01,\n",
       "        4.55138534e-02,  8.54013413e-02,  2.37745848e-02,  3.49371061e-02,\n",
       "       -6.28258586e-02,  4.05273363e-02,  5.67399040e-02,  6.31471276e-02,\n",
       "       -1.15708718e-02,  2.57081073e-02, -1.53301777e-02, -8.26598108e-02,\n",
       "        6.42995462e-02, -8.45513120e-02,  5.75453602e-02, -8.34117085e-03,\n",
       "        1.10384189e-02,  4.97912988e-02, -1.32159553e-02, -1.51809230e-02,\n",
       "        3.55853140e-02, -2.25788318e-02,  2.44262982e-02,  1.32646114e-02,\n",
       "       -6.82595447e-02, -4.47744541e-02, -8.19653273e-02,  1.53849330e-02,\n",
       "        3.64240743e-02,  3.82199250e-02,  3.01534999e-02,  3.92679237e-02,\n",
       "       -1.25101320e-02,  6.32181810e-03, -4.81404103e-02,  4.45106104e-02,\n",
       "        3.24996226e-02, -2.18033753e-02, -4.77298796e-02, -1.20128738e-02],\n",
       "      dtype=float32)"
      ]
     },
     "execution_count": 49,
     "metadata": {},
     "output_type": "execute_result"
    }
   ],
   "source": [
    "s1"
   ]
  },
  {
   "cell_type": "code",
   "execution_count": 48,
   "metadata": {},
   "outputs": [
    {
     "data": {
      "text/plain": [
       "3.982726491987576"
      ]
     },
     "execution_count": 48,
     "metadata": {},
     "output_type": "execute_result"
    }
   ],
   "source": [
    "np.sqrt(sum(abs(s1)))"
   ]
  },
  {
   "cell_type": "code",
   "execution_count": 51,
   "metadata": {},
   "outputs": [
    {
     "data": {
      "text/plain": [
       "[<matplotlib.lines.Line2D at 0x7fce110e7d90>]"
      ]
     },
     "execution_count": 51,
     "metadata": {},
     "output_type": "execute_result"
    },
    {
     "data": {
      "image/png": "[encoded data removed]",
      "text/plain": [
       "<Figure size 432x288 with 1 Axes>"
      ]
     },
     "metadata": {
      "needs_background": "light"
     },
     "output_type": "display_data"
    }
   ],
   "source": [
    "import matplotlib.pyplot as plt \n",
    "\n",
    "plt.plot(range(len(s1)),s1**2)"
   ]
  },
  {
   "cell_type": "code",
   "execution_count": 59,
   "metadata": {},
   "outputs": [],
   "source": [
    "sample = [_L2_norm(np.array(s[i])) for i in range(len(s))]"
   ]
  },
  {
   "cell_type": "code",
   "execution_count": 61,
   "metadata": {},
   "outputs": [
    {
     "data": {
      "text/plain": [
       "0.61377245"
      ]
     },
     "execution_count": 61,
     "metadata": {},
     "output_type": "execute_result"
    }
   ],
   "source": [
    "np.dot(np.array(s[0]),np.array(s[1]))"
   ]
  },
  {
   "cell_type": "code",
   "execution_count": 60,
   "metadata": {},
   "outputs": [
    {
     "data": {
      "text/plain": [
       "2.2528438e-08"
      ]
     },
     "execution_count": 60,
     "metadata": {},
     "output_type": "execute_result"
    }
   ],
   "source": [
    "np.std(sample)"
   ]
  },
  {
   "cell_type": "code",
   "execution_count": 63,
   "metadata": {},
   "outputs": [],
   "source": [
    "mat1 = np.zeros((len(s),len(s)))\n",
    "\n",
    "for i in range(len(s)) : \n",
    "  for j in range(len(s)) : \n",
    "    if i==j : \n",
    "      mat1[i][j] = 1\n",
    "    else : \n",
    "      mat1[i][j] = np.dot(np.array(s[i]), np.array(s[j])) / (_L2_norm(np.array(s[i])) * _L2_norm(np.array(s[j])))"
   ]
  },
  {
   "cell_type": "code",
   "execution_count": 67,
   "metadata": {},
   "outputs": [
    {
     "data": {
      "text/plain": [
       "array([[1.        , 0.61377245, 0.21085162, 0.63711226, 0.20166352,\n",
       "        0.29430917, 0.10917674],\n",
       "       [0.61377245, 1.        , 0.23645507, 0.50959444, 0.29244134,\n",
       "        0.36707094, 0.00435824],\n",
       "       [0.21085162, 0.23645507, 1.        , 0.1019907 , 0.07596648,\n",
       "        0.04946779, 0.02988741],\n",
       "       [0.63711226, 0.50959444, 0.1019907 , 1.        , 0.24868998,\n",
       "        0.30907267, 0.02952325],\n",
       "       [0.20166352, 0.29244134, 0.07596648, 0.24868998, 1.        ,\n",
       "        0.4185921 , 0.27511448],\n",
       "       [0.29430917, 0.36707094, 0.04946779, 0.30907267, 0.4185921 ,\n",
       "        1.        , 0.33466303],\n",
       "       [0.10917674, 0.00435824, 0.02988741, 0.02952325, 0.27511448,\n",
       "        0.33466303, 1.        ]])"
      ]
     },
     "execution_count": 67,
     "metadata": {},
     "output_type": "execute_result"
    }
   ],
   "source": [
    "mat1"
   ]
  },
  {
   "cell_type": "code",
   "execution_count": null,
   "metadata": {},
   "outputs": [],
   "source": []
  }
 ],
 "metadata": {
  "kernelspec": {
   "display_name": "Python 3",
   "language": "python",
   "name": "python3"
  },
  "language_info": {
   "codemirror_mode": {
    "name": "ipython",
    "version": 3
   },
   "file_extension": ".py",
   "mimetype": "text/x-python",
   "name": "python",
   "nbconvert_exporter": "python",
   "pygments_lexer": "ipython3",
   "version": "3.9.7"
  }
 },
 "nbformat": 4,
 "nbformat_minor": 2
}
