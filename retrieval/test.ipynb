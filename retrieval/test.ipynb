{
 "cells": [
  {
   "cell_type": "code",
   "execution_count": 1,
   "metadata": {},
   "outputs": [
    {
     "data": {
      "text/html": [
       "<div>\n",
       "<style scoped>\n",
       "    .dataframe tbody tr th:only-of-type {\n",
       "        vertical-align: middle;\n",
       "    }\n",
       "\n",
       "    .dataframe tbody tr th {\n",
       "        vertical-align: top;\n",
       "    }\n",
       "\n",
       "    .dataframe thead th {\n",
       "        text-align: right;\n",
       "    }\n",
       "</style>\n",
       "<table border=\"1\" class=\"dataframe\">\n",
       "  <thead>\n",
       "    <tr style=\"text-align: right;\">\n",
       "      <th></th>\n",
       "      <th>encounter_id</th>\n",
       "      <th>dialogue</th>\n",
       "      <th>clean_dialogue</th>\n",
       "    </tr>\n",
       "  </thead>\n",
       "  <tbody>\n",
       "    <tr>\n",
       "      <th>0</th>\n",
       "      <td>[doctor]</td>\n",
       "      <td>hi, martha . how are you ?</td>\n",
       "      <td>hi, martha . how are you ?</td>\n",
       "    </tr>\n",
       "    <tr>\n",
       "      <th>1</th>\n",
       "      <td>[patient]</td>\n",
       "      <td>i'm um doing okay . how are you ?</td>\n",
       "      <td>i am  doing okay . how are you ?</td>\n",
       "    </tr>\n",
       "    <tr>\n",
       "      <th>2</th>\n",
       "      <td>[patient]</td>\n",
       "      <td>okay .</td>\n",
       "      <td>okay .</td>\n",
       "    </tr>\n",
       "    <tr>\n",
       "      <th>3</th>\n",
       "      <td>[doctor]</td>\n",
       "      <td>martha is a 50-year-old female with a past med...</td>\n",
       "      <td>martha is a 50-year-old female with a past med...</td>\n",
       "    </tr>\n",
       "    <tr>\n",
       "      <th>4</th>\n",
       "      <td>[patient]</td>\n",
       "      <td>i'm doing well . i've been traveling a lot rec...</td>\n",
       "      <td>i am doing  . i have been traveling a lot rece...</td>\n",
       "    </tr>\n",
       "    <tr>\n",
       "      <th>5</th>\n",
       "      <td>[doctor]</td>\n",
       "      <td>nice . that's great . i'm glad to hear that yo...</td>\n",
       "      <td>nice . that's great . i am glad to hear that y...</td>\n",
       "    </tr>\n",
       "    <tr>\n",
       "      <th>6</th>\n",
       "      <td>[patient]</td>\n",
       "      <td>yes , fall foliage is the best .</td>\n",
       "      <td>yes , fall foliage is the best .</td>\n",
       "    </tr>\n",
       "  </tbody>\n",
       "</table>\n",
       "</div>"
      ],
      "text/plain": [
       "  encounter_id                                           dialogue  \\\n",
       "0     [doctor]                         hi, martha . how are you ?   \n",
       "1    [patient]                  i'm um doing okay . how are you ?   \n",
       "2    [patient]                                             okay .   \n",
       "3     [doctor]  martha is a 50-year-old female with a past med...   \n",
       "4    [patient]  i'm doing well . i've been traveling a lot rec...   \n",
       "5     [doctor]  nice . that's great . i'm glad to hear that yo...   \n",
       "6    [patient]                   yes , fall foliage is the best .   \n",
       "\n",
       "                                      clean_dialogue  \n",
       "0                         hi, martha . how are you ?  \n",
       "1                   i am  doing okay . how are you ?  \n",
       "2                                             okay .  \n",
       "3  martha is a 50-year-old female with a past med...  \n",
       "4  i am doing  . i have been traveling a lot rece...  \n",
       "5  nice . that's great . i am glad to hear that y...  \n",
       "6                   yes , fall foliage is the best .  "
      ]
     },
     "execution_count": 1,
     "metadata": {},
     "output_type": "execute_result"
    }
   ],
   "source": [
    "import pandas as pd \n",
    "\n",
    "df = pd.read_csv(\"cleaned_output.csv\")\n",
    "df"
   ]
  },
  {
   "cell_type": "code",
   "execution_count": 2,
   "metadata": {},
   "outputs": [],
   "source": [
    "from encoder import bcbert_encoder"
   ]
  },
  {
   "cell_type": "code",
   "execution_count": 3,
   "metadata": {},
   "outputs": [],
   "source": [
    "sentences = df[\"clean_dialogue\"]"
   ]
  },
  {
   "cell_type": "code",
   "execution_count": 4,
   "metadata": {},
   "outputs": [
    {
     "data": {
      "text/plain": [
       "0                           hi, martha . how are you ?\n",
       "1                     i am  doing okay . how are you ?\n",
       "2                                               okay .\n",
       "3    martha is a 50-year-old female with a past med...\n",
       "4    i am doing  . i have been traveling a lot rece...\n",
       "5    nice . that's great . i am glad to hear that y...\n",
       "6                     yes , fall foliage is the best .\n",
       "Name: clean_dialogue, dtype: object"
      ]
     },
     "execution_count": 4,
     "metadata": {},
     "output_type": "execute_result"
    }
   ],
   "source": [
    "sentences"
   ]
  },
  {
   "cell_type": "code",
   "execution_count": 5,
   "metadata": {},
   "outputs": [
    {
     "name": "stderr",
     "output_type": "stream",
     "text": [
      "/Library/Frameworks/Python.framework/Versions/3.9/lib/python3.9/site-packages/transformers/tokenization_utils_base.py:1601: FutureWarning: `clean_up_tokenization_spaces` was not set. It will be set to `True` by default. This behavior will be depracted in transformers v4.45, and will be then set to `False` by default. For more details check this issue: https://github.com/huggingface/transformers/issues/31884\n",
      "  warnings.warn(\n",
      "/Library/Frameworks/Python.framework/Versions/3.9/lib/python3.9/site-packages/torch/_utils.py:831: UserWarning: TypedStorage is deprecated. It will be removed in the future and UntypedStorage will be the only storage class. This should only matter to you if you are using storages directly.  To access UntypedStorage directly, use tensor.untyped_storage() instead of tensor.storage()\n",
      "  return self.fget.__get__(instance, owner)()\n",
      "Asking to truncate to max_length but no maximum length is provided and the model has no predefined maximum length. Default to no truncation.\n"
     ]
    }
   ],
   "source": [
    "s = bcbert_encoder(list(sentences))"
   ]
  },
  {
   "cell_type": "code",
   "execution_count": 6,
   "metadata": {},
   "outputs": [
    {
     "data": {
      "text/plain": [
       "tensor([[ 1.0933e-02, -6.3833e-03, -1.2487e-02,  ...,  4.1259e-02,\n",
       "         -7.1041e-04, -4.1440e-02],\n",
       "        [ 1.3117e-02,  5.3431e-03, -2.8695e-02,  ...,  2.1679e-02,\n",
       "         -1.2465e-02, -3.9004e-02],\n",
       "        [ 2.2179e-02,  3.2934e-02, -2.8494e-02,  ...,  2.0395e-02,\n",
       "          1.5727e-02, -2.9857e-03],\n",
       "        ...,\n",
       "        [-4.3435e-05, -6.9575e-03, -4.3434e-02,  ..., -9.6280e-03,\n",
       "         -1.1733e-02, -2.2823e-02],\n",
       "        [-7.3716e-03, -3.2063e-03, -2.2370e-02,  ...,  2.2100e-03,\n",
       "          7.7941e-03, -2.8810e-02],\n",
       "        [ 2.6838e-03,  6.0509e-03, -1.0062e-02,  ...,  2.4771e-02,\n",
       "         -8.9119e-03, -2.0849e-02]])"
      ]
     },
     "execution_count": 6,
     "metadata": {},
     "output_type": "execute_result"
    }
   ],
   "source": [
    "s"
   ]
  },
  {
   "cell_type": "code",
   "execution_count": 7,
   "metadata": {},
   "outputs": [
    {
     "name": "stderr",
     "output_type": "stream",
     "text": [
      "huggingface/tokenizers: The current process just got forked, after parallelism has already been used. Disabling parallelism to avoid deadlocks...\n",
      "To disable this warning, you can either:\n",
      "\t- Avoid using `tokenizers` before the fork if possible\n",
      "\t- Explicitly set the environment variable TOKENIZERS_PARALLELISM=(true | false)\n"
     ]
    },
    {
     "ename": "ImportError",
     "evalue": "cannot import name 'softcossim' from 'gensim.matutils' (/Library/Frameworks/Python.framework/Versions/3.9/lib/python3.9/site-packages/gensim/matutils.py)",
     "output_type": "error",
     "traceback": [
      "\u001b[0;31m---------------------------------------------------------------------------\u001b[0m",
      "\u001b[0;31mImportError\u001b[0m                               Traceback (most recent call last)",
      "\u001b[0;32m/var/folders/dk/5xxlbv9n6xngmfm92w8343_40000gp/T/ipykernel_30725/690954312.py\u001b[0m in \u001b[0;36m<module>\u001b[0;34m\u001b[0m\n\u001b[1;32m      1\u001b[0m \u001b[0;32mimport\u001b[0m \u001b[0mnumpy\u001b[0m \u001b[0;32mas\u001b[0m \u001b[0mnp\u001b[0m\u001b[0;34m\u001b[0m\u001b[0;34m\u001b[0m\u001b[0m\n\u001b[0;32m----> 2\u001b[0;31m \u001b[0;32mfrom\u001b[0m \u001b[0mgensim\u001b[0m\u001b[0;34m.\u001b[0m\u001b[0mmatutils\u001b[0m \u001b[0;32mimport\u001b[0m \u001b[0msoftcossim\u001b[0m\u001b[0;34m\u001b[0m\u001b[0;34m\u001b[0m\u001b[0m\n\u001b[0m\u001b[1;32m      3\u001b[0m \u001b[0;32mfrom\u001b[0m \u001b[0mgensim\u001b[0m\u001b[0;34m.\u001b[0m\u001b[0mcorpora\u001b[0m \u001b[0;32mimport\u001b[0m \u001b[0mDictionary\u001b[0m\u001b[0;34m\u001b[0m\u001b[0;34m\u001b[0m\u001b[0m\n\u001b[1;32m      4\u001b[0m \u001b[0;32mfrom\u001b[0m \u001b[0mgensim\u001b[0m\u001b[0;34m.\u001b[0m\u001b[0mmodels\u001b[0m \u001b[0;32mimport\u001b[0m \u001b[0mWord2Vec\u001b[0m\u001b[0;34m\u001b[0m\u001b[0;34m\u001b[0m\u001b[0m\n\u001b[1;32m      5\u001b[0m \u001b[0;34m\u001b[0m\u001b[0m\n",
      "\u001b[0;31mImportError\u001b[0m: cannot import name 'softcossim' from 'gensim.matutils' (/Library/Frameworks/Python.framework/Versions/3.9/lib/python3.9/site-packages/gensim/matutils.py)"
     ]
    }
   ],
   "source": [
    "import numpy as np\n",
    "from gensim.matutils import softcossim\n",
    "from gensim.corpora import Dictionary\n",
    "from gensim.models import Word2Vec\n",
    "\n",
    "# Example corpus\n",
    "corpus = [\n",
    "    \"Patient has diabetes and high blood sugar levels.\",\n",
    "    \"The patient is suffering from hyperglycemia.\"\n",
    "]\n",
    "\n",
    "# Create a dictionary and a bag-of-words representation\n",
    "dictionary = Dictionary([doc.lower().split() for doc in corpus])\n",
    "bow1 = dictionary.doc2bow(corpus[0].lower().split())\n",
    "bow2 = dictionary.doc2bow(corpus[1].lower().split())\n",
    "\n",
    "# Load or create a word similarity matrix (example with Word2Vec)\n",
    "model = Word2Vec(sentences=[doc.lower().split() for doc in corpus], vector_size=100, window=5, min_count=1, workers=4)\n",
    "similarity_matrix = model.wv.similarity_matrix(dictionary)\n",
    "\n",
    "# Compute soft cosine similarity\n",
    "similarity = softcossim(bow1, bow2, similarity_matrix)\n",
    "\n",
    "print(f\"Soft Cosine Similarity: {similarity}\")"
   ]
  },
  {
   "cell_type": "code",
   "execution_count": null,
   "metadata": {},
   "outputs": [],
   "source": []
  }
 ],
 "metadata": {
  "kernelspec": {
   "display_name": "Python 3",
   "language": "python",
   "name": "python3"
  },
  "language_info": {
   "codemirror_mode": {
    "name": "ipython",
    "version": 3
   },
   "file_extension": ".py",
   "mimetype": "text/x-python",
   "name": "python",
   "nbconvert_exporter": "python",
   "pygments_lexer": "ipython3",
   "version": "3.9.7"
  }
 },
 "nbformat": 4,
 "nbformat_minor": 2
}
