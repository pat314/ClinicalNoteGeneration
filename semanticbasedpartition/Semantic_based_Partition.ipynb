{
 "nbformat": 4,
 "nbformat_minor": 0,
 "metadata": {
  "colab": {
   "provenance": []
  },
  "kernelspec": {
   "name": "python3",
   "display_name": "Python 3"
  },
  "language_info": {
   "name": "python"
  }
 },
 "cells": [
  {
   "cell_type": "code",
   "source": [
    "pip install sentence_transformers"
   ],
   "metadata": {
    "colab": {
     "base_uri": "https://localhost:8080/"
    },
    "id": "rY1nuHo7E3ZD",
    "outputId": "1c43995d-8c66-4974-c52f-796f5a9ac56e"
   },
   "execution_count": 5,
   "outputs": [
    {
     "output_type": "stream",
     "name": "stdout",
     "text": [
      "Requirement already satisfied: sentence_transformers in /usr/local/lib/python3.10/dist-packages (3.0.1)\n",
      "Requirement already satisfied: transformers<5.0.0,>=4.34.0 in /usr/local/lib/python3.10/dist-packages (from sentence_transformers) (4.42.4)\n",
      "Requirement already satisfied: tqdm in /usr/local/lib/python3.10/dist-packages (from sentence_transformers) (4.66.4)\n",
      "Requirement already satisfied: torch>=1.11.0 in /usr/local/lib/python3.10/dist-packages (from sentence_transformers) (2.3.1+cu121)\n",
      "Requirement already satisfied: numpy in /usr/local/lib/python3.10/dist-packages (from sentence_transformers) (1.26.4)\n",
      "Requirement already satisfied: scikit-learn in /usr/local/lib/python3.10/dist-packages (from sentence_transformers) (1.3.2)\n",
      "Requirement already satisfied: scipy in /usr/local/lib/python3.10/dist-packages (from sentence_transformers) (1.13.1)\n",
      "Requirement already satisfied: huggingface-hub>=0.15.1 in /usr/local/lib/python3.10/dist-packages (from sentence_transformers) (0.23.5)\n",
      "Requirement already satisfied: Pillow in /usr/local/lib/python3.10/dist-packages (from sentence_transformers) (9.4.0)\n",
      "Requirement already satisfied: filelock in /usr/local/lib/python3.10/dist-packages (from huggingface-hub>=0.15.1->sentence_transformers) (3.15.4)\n",
      "Requirement already satisfied: fsspec>=2023.5.0 in /usr/local/lib/python3.10/dist-packages (from huggingface-hub>=0.15.1->sentence_transformers) (2024.6.1)\n",
      "Requirement already satisfied: packaging>=20.9 in /usr/local/lib/python3.10/dist-packages (from huggingface-hub>=0.15.1->sentence_transformers) (24.1)\n",
      "Requirement already satisfied: pyyaml>=5.1 in /usr/local/lib/python3.10/dist-packages (from huggingface-hub>=0.15.1->sentence_transformers) (6.0.1)\n",
      "Requirement already satisfied: requests in /usr/local/lib/python3.10/dist-packages (from huggingface-hub>=0.15.1->sentence_transformers) (2.31.0)\n",
      "Requirement already satisfied: typing-extensions>=3.7.4.3 in /usr/local/lib/python3.10/dist-packages (from huggingface-hub>=0.15.1->sentence_transformers) (4.12.2)\n",
      "Requirement already satisfied: sympy in /usr/local/lib/python3.10/dist-packages (from torch>=1.11.0->sentence_transformers) (1.13.1)\n",
      "Requirement already satisfied: networkx in /usr/local/lib/python3.10/dist-packages (from torch>=1.11.0->sentence_transformers) (3.3)\n",
      "Requirement already satisfied: jinja2 in /usr/local/lib/python3.10/dist-packages (from torch>=1.11.0->sentence_transformers) (3.1.4)\n",
      "Requirement already satisfied: nvidia-cuda-nvrtc-cu12==12.1.105 in /usr/local/lib/python3.10/dist-packages (from torch>=1.11.0->sentence_transformers) (12.1.105)\n",
      "Requirement already satisfied: nvidia-cuda-runtime-cu12==12.1.105 in /usr/local/lib/python3.10/dist-packages (from torch>=1.11.0->sentence_transformers) (12.1.105)\n",
      "Requirement already satisfied: nvidia-cuda-cupti-cu12==12.1.105 in /usr/local/lib/python3.10/dist-packages (from torch>=1.11.0->sentence_transformers) (12.1.105)\n",
      "Requirement already satisfied: nvidia-cudnn-cu12==8.9.2.26 in /usr/local/lib/python3.10/dist-packages (from torch>=1.11.0->sentence_transformers) (8.9.2.26)\n",
      "Requirement already satisfied: nvidia-cublas-cu12==12.1.3.1 in /usr/local/lib/python3.10/dist-packages (from torch>=1.11.0->sentence_transformers) (12.1.3.1)\n",
      "Requirement already satisfied: nvidia-cufft-cu12==11.0.2.54 in /usr/local/lib/python3.10/dist-packages (from torch>=1.11.0->sentence_transformers) (11.0.2.54)\n",
      "Requirement already satisfied: nvidia-curand-cu12==10.3.2.106 in /usr/local/lib/python3.10/dist-packages (from torch>=1.11.0->sentence_transformers) (10.3.2.106)\n",
      "Requirement already satisfied: nvidia-cusolver-cu12==11.4.5.107 in /usr/local/lib/python3.10/dist-packages (from torch>=1.11.0->sentence_transformers) (11.4.5.107)\n",
      "Requirement already satisfied: nvidia-cusparse-cu12==12.1.0.106 in /usr/local/lib/python3.10/dist-packages (from torch>=1.11.0->sentence_transformers) (12.1.0.106)\n",
      "Requirement already satisfied: nvidia-nccl-cu12==2.20.5 in /usr/local/lib/python3.10/dist-packages (from torch>=1.11.0->sentence_transformers) (2.20.5)\n",
      "Requirement already satisfied: nvidia-nvtx-cu12==12.1.105 in /usr/local/lib/python3.10/dist-packages (from torch>=1.11.0->sentence_transformers) (12.1.105)\n",
      "Requirement already satisfied: triton==2.3.1 in /usr/local/lib/python3.10/dist-packages (from torch>=1.11.0->sentence_transformers) (2.3.1)\n",
      "Requirement already satisfied: nvidia-nvjitlink-cu12 in /usr/local/lib/python3.10/dist-packages (from nvidia-cusolver-cu12==11.4.5.107->torch>=1.11.0->sentence_transformers) (12.6.20)\n",
      "Requirement already satisfied: regex!=2019.12.17 in /usr/local/lib/python3.10/dist-packages (from transformers<5.0.0,>=4.34.0->sentence_transformers) (2024.5.15)\n",
      "Requirement already satisfied: safetensors>=0.4.1 in /usr/local/lib/python3.10/dist-packages (from transformers<5.0.0,>=4.34.0->sentence_transformers) (0.4.3)\n",
      "Requirement already satisfied: tokenizers<0.20,>=0.19 in /usr/local/lib/python3.10/dist-packages (from transformers<5.0.0,>=4.34.0->sentence_transformers) (0.19.1)\n",
      "Requirement already satisfied: joblib>=1.1.1 in /usr/local/lib/python3.10/dist-packages (from scikit-learn->sentence_transformers) (1.4.2)\n",
      "Requirement already satisfied: threadpoolctl>=2.0.0 in /usr/local/lib/python3.10/dist-packages (from scikit-learn->sentence_transformers) (3.5.0)\n",
      "Requirement already satisfied: MarkupSafe>=2.0 in /usr/local/lib/python3.10/dist-packages (from jinja2->torch>=1.11.0->sentence_transformers) (2.1.5)\n",
      "Requirement already satisfied: charset-normalizer<4,>=2 in /usr/local/lib/python3.10/dist-packages (from requests->huggingface-hub>=0.15.1->sentence_transformers) (3.3.2)\n",
      "Requirement already satisfied: idna<4,>=2.5 in /usr/local/lib/python3.10/dist-packages (from requests->huggingface-hub>=0.15.1->sentence_transformers) (3.7)\n",
      "Requirement already satisfied: urllib3<3,>=1.21.1 in /usr/local/lib/python3.10/dist-packages (from requests->huggingface-hub>=0.15.1->sentence_transformers) (2.0.7)\n",
      "Requirement already satisfied: certifi>=2017.4.17 in /usr/local/lib/python3.10/dist-packages (from requests->huggingface-hub>=0.15.1->sentence_transformers) (2024.7.4)\n",
      "Requirement already satisfied: mpmath<1.4,>=1.1.0 in /usr/local/lib/python3.10/dist-packages (from sympy->torch>=1.11.0->sentence_transformers) (1.3.0)\n"
     ]
    }
   ]
  },
  {
   "cell_type": "code",
   "execution_count": 7,
   "metadata": {
    "colab": {
     "base_uri": "https://localhost:8080/"
    },
    "id": "cC_0KjR8E0hQ",
    "outputId": "43ec5af3-26a8-4f67-bce7-7db8d8828c02"
   },
   "outputs": [
    {
     "output_type": "stream",
     "name": "stdout",
     "text": [
      "Query set:  ['headache', 'medication', 'symptoms', 'nauseous', 'dizzy']\n",
      "Filtered Sentences by Threshold:\n",
      "    Patient: I have been having a severe headache for the past three days.\n",
      "    Doctor: Are there any other symptoms besides the headache?\n",
      "    Patient: I've also been feeling nauseous and dizzy.\n",
      "\n",
      "Strict Matched Sentences:\n",
      "    Patient: I have been having a severe headache for the past three days.\n",
      "    Doctor: Have you taken any medication for it?\n",
      "    Doctor: Are there any other symptoms besides the headache?\n",
      "    Patient: I've also been feeling nauseous and dizzy.\n"
     ]
    }
   ],
   "source": [
    "import numpy as np\n",
    "from sentence_transformers import SentenceTransformer, util\n",
    "\n",
    "# Load the pre-trained SBERT model\n",
    "model = SentenceTransformer('all-MiniLM-L6-v2')\n",
    "\n",
    "# Step 1: Divide dialogue into utterances and sentences\n",
    "def split_dialogue(dialogue):\n",
    "    utterances = dialogue.split('\\n')\n",
    "    sentences = [sentence for utterance in utterances for sentence in utterance.split('. ')]\n",
    "    return utterances, sentences\n",
    "\n",
    "# Step 2: Encode the units\n",
    "def encode_units(units):\n",
    "    embeddings = model.encode(units, convert_to_tensor=True)\n",
    "    return embeddings\n",
    "\n",
    "# Step 3: Calculate similarity scores\n",
    "def calculate_similarity_scores(query_embeddings, sentence_embeddings, threshold):\n",
    "    similarity_scores = util.pytorch_cos_sim(query_embeddings, sentence_embeddings)\n",
    "    max_scores = np.max(similarity_scores.numpy(), axis=0)\n",
    "    return max_scores\n",
    "\n",
    "# Step 4: Filter the units\n",
    "def filter_units_by_threshold(units, scores, threshold):\n",
    "    relevant_units = [unit for unit, score in zip(units, scores) if score >= threshold]\n",
    "    return relevant_units\n",
    "\n",
    "# Step 5: Strict matching method\n",
    "def strict_matching(sentences, query_set):\n",
    "    matched_sentences = [sentence for sentence in sentences if any(keyword in sentence for keyword in query_set)]\n",
    "    return matched_sentences\n",
    "\n",
    "# Example\n",
    "if __name__ == \"__main__\":\n",
    "    dialogue = \"\"\"\n",
    "    Doctor: Good morning. What brings you in today?\n",
    "    Patient: I have been having a severe headache for the past three days.\n",
    "    Doctor: Have you taken any medication for it?\n",
    "    Patient: Yes, I took some ibuprofen but it didn't help much.\n",
    "    Doctor: Are there any other symptoms besides the headache?\n",
    "    Patient: I've also been feeling nauseous and dizzy.\n",
    "    \"\"\"\n",
    "\n",
    "    query_set = [\"headache\", \"medication\", \"symptoms\", \"nauseous\", \"dizzy\"]\n",
    "    print(\"Query set: \", query_set)\n",
    "\n",
    "    # Predefined query set and dialogue\n",
    "    utterances, sentences = split_dialogue(dialogue)\n",
    "\n",
    "    # Encode queries and sentences\n",
    "    query_embeddings = encode_units(query_set)\n",
    "    sentence_embeddings = encode_units(sentences)\n",
    "\n",
    "    # Calculate similarity scores\n",
    "    threshold = 0.5\n",
    "    scores = calculate_similarity_scores(query_embeddings, sentence_embeddings, threshold)\n",
    "\n",
    "    # Filter sentences by threshold\n",
    "    filtered_sentences = filter_units_by_threshold(sentences, scores, threshold)\n",
    "\n",
    "    # Perform strict matching\n",
    "    strict_matched_sentences = strict_matching(sentences, query_set)\n",
    "\n",
    "    # Print results\n",
    "    print(\"Filtered Sentences by Threshold:\")\n",
    "    for sentence in filtered_sentences:\n",
    "        print(sentence)\n",
    "\n",
    "    print(\"\\nStrict Matched Sentences:\")\n",
    "    for sentence in strict_matched_sentences:\n",
    "        print(sentence)\n"
   ]
  }
 ]
}
