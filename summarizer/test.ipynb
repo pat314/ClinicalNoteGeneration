{
 "cells": [
  {
   "cell_type": "code",
   "execution_count": 1,
   "metadata": {},
   "outputs": [
    {
     "data": {
      "text/plain": [
       "['.DS_Store',\n",
       " 'LICENSE',\n",
       " 'util.py',\n",
       " 'clustering',\n",
       " 'preprocess',\n",
       " 'model_manager.py',\n",
       " 'README.md',\n",
       " 'RAPTOR_util.py',\n",
       " '.gitignore',\n",
       " 'postprocess',\n",
       " '.git',\n",
       " 'summarizer',\n",
       " '.idea']"
      ]
     },
     "execution_count": 1,
     "metadata": {},
     "output_type": "execute_result"
    }
   ],
   "source": [
    "import os\n",
    "from os import listdir\n",
    "parent_dir = os.path.abspath(os.path.join(os.getcwd(), '..'))  # Get the parent directory\n",
    "os.chdir(parent_dir)  # Change the working directory to the parent directory\n",
    "os.sys.path.append(parent_dir)  # Append the parent directory to the system path\n",
    "listdir()"
   ]
  },
  {
   "cell_type": "code",
   "execution_count": 2,
   "metadata": {},
   "outputs": [],
   "source": [
    "from preprocess.text_embedding import bcbert_encoder"
   ]
  },
  {
   "cell_type": "code",
   "execution_count": 3,
   "metadata": {},
   "outputs": [],
   "source": [
    "t = bcbert_encoder(\"Medications\")"
   ]
  },
  {
   "cell_type": "code",
   "execution_count": 4,
   "metadata": {},
   "outputs": [],
   "source": [
    "import pandas as pd \n",
    "import numpy as np "
   ]
  },
  {
   "cell_type": "code",
   "execution_count": 5,
   "metadata": {},
   "outputs": [],
   "source": [
    "df = pd.read_csv(\"preprocess/train_fix_role_output_file.csv\")"
   ]
  },
  {
   "cell_type": "code",
   "execution_count": 6,
   "metadata": {},
   "outputs": [
    {
     "data": {
      "text/html": [
       "<div>\n",
       "<style scoped>\n",
       "    .dataframe tbody tr th:only-of-type {\n",
       "        vertical-align: middle;\n",
       "    }\n",
       "\n",
       "    .dataframe tbody tr th {\n",
       "        vertical-align: top;\n",
       "    }\n",
       "\n",
       "    .dataframe thead th {\n",
       "        text-align: right;\n",
       "    }\n",
       "</style>\n",
       "<table border=\"1\" class=\"dataframe\">\n",
       "  <thead>\n",
       "    <tr style=\"text-align: right;\">\n",
       "      <th></th>\n",
       "      <th>dataset</th>\n",
       "      <th>encounter_id</th>\n",
       "      <th>dialogue</th>\n",
       "      <th>note</th>\n",
       "      <th>clean_dialogue</th>\n",
       "      <th>restore_punctuation_dialogue</th>\n",
       "      <th>fixed_role_dialogue</th>\n",
       "    </tr>\n",
       "  </thead>\n",
       "  <tbody>\n",
       "    <tr>\n",
       "      <th>0</th>\n",
       "      <td>virtassist</td>\n",
       "      <td>D2N001</td>\n",
       "      <td>[doctor] hi , martha . how are you ?\\n[patient...</td>\n",
       "      <td>CHIEF COMPLAINT\\n\\nAnnual exam.\\n\\nHISTORY OF ...</td>\n",
       "      <td>[doctor] hi , martha . how are you ?\\n[patient...</td>\n",
       "      <td>[doctor] hi martha, how are you?\\n[patient] th...</td>\n",
       "      <td>[doctor] hi martha, how are you?\\n[patient] th...</td>\n",
       "    </tr>\n",
       "    <tr>\n",
       "      <th>1</th>\n",
       "      <td>virtassist</td>\n",
       "      <td>D2N002</td>\n",
       "      <td>[doctor] hi , andrew , how are you ?\\n[patient...</td>\n",
       "      <td>CHIEF COMPLAINT\\n\\nJoint pain.\\n\\nHISTORY OF P...</td>\n",
       "      <td>[doctor] hi , andrew , how are you ?\\n[patient...</td>\n",
       "      <td>[doctor] hi andrew, how are you?\\n[patient] hi...</td>\n",
       "      <td>[doctor] hi andrew, how are you?\\n[patient] hi...</td>\n",
       "    </tr>\n",
       "    <tr>\n",
       "      <th>2</th>\n",
       "      <td>virtassist</td>\n",
       "      <td>D2N003</td>\n",
       "      <td>[doctor] hi , john . how are you ?\\n[patient] ...</td>\n",
       "      <td>CHIEF COMPLAINT\\n\\nBack pain.\\n\\nHISTORY OF PR...</td>\n",
       "      <td>[doctor] hi , john . how are you ?\\n[patient] ...</td>\n",
       "      <td>[doctor] hi john, how are you?\\n[patient] hey,...</td>\n",
       "      <td>[doctor] hi john, how are you?\\n[patient] hey,...</td>\n",
       "    </tr>\n",
       "    <tr>\n",
       "      <th>3</th>\n",
       "      <td>virtassist</td>\n",
       "      <td>D2N004</td>\n",
       "      <td>[doctor] hi , james , how are you ?\\n[patient]...</td>\n",
       "      <td>CHIEF COMPLAINT\\n\\nBack pain.\\n\\nHISTORY OF PR...</td>\n",
       "      <td>[doctor] hi , james , how are you ?\\n[patient]...</td>\n",
       "      <td>[doctor] hi james, how are you?\\n[patient] hey...</td>\n",
       "      <td>[doctor] hi james, how are you?\\n[patient] hey...</td>\n",
       "    </tr>\n",
       "    <tr>\n",
       "      <th>4</th>\n",
       "      <td>virtassist</td>\n",
       "      <td>D2N005</td>\n",
       "      <td>[doctor] hey , ms. hill . nice to see you .\\n[...</td>\n",
       "      <td>CC:\\n\\nRight middle finger pain.\\n\\nHPI:\\n\\nMs...</td>\n",
       "      <td>[doctor] hey , ms. hill . nice to see you .\\n[...</td>\n",
       "      <td>[doctor] hey, ms hill, nice to see you.\\n[pati...</td>\n",
       "      <td>[doctor] hey, ms hill, nice to see you.\\n[pati...</td>\n",
       "    </tr>\n",
       "    <tr>\n",
       "      <th>...</th>\n",
       "      <td>...</td>\n",
       "      <td>...</td>\n",
       "      <td>...</td>\n",
       "      <td>...</td>\n",
       "      <td>...</td>\n",
       "      <td>...</td>\n",
       "      <td>...</td>\n",
       "    </tr>\n",
       "    <tr>\n",
       "      <th>62</th>\n",
       "      <td>aci</td>\n",
       "      <td>D2N063</td>\n",
       "      <td>[doctor] so gloria is a 46 -year-old female to...</td>\n",
       "      <td>CHIEF COMPLAINT\\n\\nDyspnea.\\n\\nMEDICAL HISTORY...</td>\n",
       "      <td>[doctor] so gloria is a 46 -year-old female to...</td>\n",
       "      <td>[doctor] so gloria is a 46 -year-old female to...</td>\n",
       "      <td>[doctor] so gloria is a 46 -year-old female to...</td>\n",
       "    </tr>\n",
       "    <tr>\n",
       "      <th>63</th>\n",
       "      <td>aci</td>\n",
       "      <td>D2N064</td>\n",
       "      <td>[doctor] hey matthew how're you doing\\n[patien...</td>\n",
       "      <td>CHIEF COMPLAINT\\n\\nLeft ankle pain.\\n\\nHISTORY...</td>\n",
       "      <td>[doctor] hey matthew how're you doing\\n[patien...</td>\n",
       "      <td>[doctor] hey, matthew, how're you doing?\\n[pat...</td>\n",
       "      <td>[doctor] hey, matthew, how're you doing?\\n[pat...</td>\n",
       "    </tr>\n",
       "    <tr>\n",
       "      <th>64</th>\n",
       "      <td>aci</td>\n",
       "      <td>D2N065</td>\n",
       "      <td>[doctor] hey anna good to see you today so i'm...</td>\n",
       "      <td>CHIEF COMPLAINT\\n\\nRight ankle pain.\\n\\nHISTOR...</td>\n",
       "      <td>[doctor] hey anna good to see you today so i a...</td>\n",
       "      <td>[doctor] hey, anna, good to see you today. so ...</td>\n",
       "      <td>[doctor] hey, anna, good to see you today. so ...</td>\n",
       "    </tr>\n",
       "    <tr>\n",
       "      <th>65</th>\n",
       "      <td>aci</td>\n",
       "      <td>D2N066</td>\n",
       "      <td>[doctor] hey gabriel i'm doctor scott good to ...</td>\n",
       "      <td>CHIEF COMPLAINT\\n\\nBack pain evaluation.\\n\\nME...</td>\n",
       "      <td>[doctor] hey gabriel i am doctor scott good to...</td>\n",
       "      <td>[doctor] hey, gabriel, i am doctor scott. good...</td>\n",
       "      <td>[doctor] hey, gabriel, i am doctor scott. good...</td>\n",
       "    </tr>\n",
       "    <tr>\n",
       "      <th>66</th>\n",
       "      <td>aci</td>\n",
       "      <td>D2N067</td>\n",
       "      <td>[doctor] hi elizabeth so i see that you were e...</td>\n",
       "      <td>CHIEF COMPLAINT\\n\\nRight knee injury.\\n\\nHISTO...</td>\n",
       "      <td>[doctor] hi elizabeth so i see that you we exp...</td>\n",
       "      <td>[doctor] hi, elizabeth, so i see that you we e...</td>\n",
       "      <td>[doctor] hi, elizabeth, so i see that you we e...</td>\n",
       "    </tr>\n",
       "  </tbody>\n",
       "</table>\n",
       "<p>67 rows × 7 columns</p>\n",
       "</div>"
      ],
      "text/plain": [
       "       dataset encounter_id  \\\n",
       "0   virtassist       D2N001   \n",
       "1   virtassist       D2N002   \n",
       "2   virtassist       D2N003   \n",
       "3   virtassist       D2N004   \n",
       "4   virtassist       D2N005   \n",
       "..         ...          ...   \n",
       "62         aci       D2N063   \n",
       "63         aci       D2N064   \n",
       "64         aci       D2N065   \n",
       "65         aci       D2N066   \n",
       "66         aci       D2N067   \n",
       "\n",
       "                                             dialogue  \\\n",
       "0   [doctor] hi , martha . how are you ?\\n[patient...   \n",
       "1   [doctor] hi , andrew , how are you ?\\n[patient...   \n",
       "2   [doctor] hi , john . how are you ?\\n[patient] ...   \n",
       "3   [doctor] hi , james , how are you ?\\n[patient]...   \n",
       "4   [doctor] hey , ms. hill . nice to see you .\\n[...   \n",
       "..                                                ...   \n",
       "62  [doctor] so gloria is a 46 -year-old female to...   \n",
       "63  [doctor] hey matthew how're you doing\\n[patien...   \n",
       "64  [doctor] hey anna good to see you today so i'm...   \n",
       "65  [doctor] hey gabriel i'm doctor scott good to ...   \n",
       "66  [doctor] hi elizabeth so i see that you were e...   \n",
       "\n",
       "                                                 note  \\\n",
       "0   CHIEF COMPLAINT\\n\\nAnnual exam.\\n\\nHISTORY OF ...   \n",
       "1   CHIEF COMPLAINT\\n\\nJoint pain.\\n\\nHISTORY OF P...   \n",
       "2   CHIEF COMPLAINT\\n\\nBack pain.\\n\\nHISTORY OF PR...   \n",
       "3   CHIEF COMPLAINT\\n\\nBack pain.\\n\\nHISTORY OF PR...   \n",
       "4   CC:\\n\\nRight middle finger pain.\\n\\nHPI:\\n\\nMs...   \n",
       "..                                                ...   \n",
       "62  CHIEF COMPLAINT\\n\\nDyspnea.\\n\\nMEDICAL HISTORY...   \n",
       "63  CHIEF COMPLAINT\\n\\nLeft ankle pain.\\n\\nHISTORY...   \n",
       "64  CHIEF COMPLAINT\\n\\nRight ankle pain.\\n\\nHISTOR...   \n",
       "65  CHIEF COMPLAINT\\n\\nBack pain evaluation.\\n\\nME...   \n",
       "66  CHIEF COMPLAINT\\n\\nRight knee injury.\\n\\nHISTO...   \n",
       "\n",
       "                                       clean_dialogue  \\\n",
       "0   [doctor] hi , martha . how are you ?\\n[patient...   \n",
       "1   [doctor] hi , andrew , how are you ?\\n[patient...   \n",
       "2   [doctor] hi , john . how are you ?\\n[patient] ...   \n",
       "3   [doctor] hi , james , how are you ?\\n[patient]...   \n",
       "4   [doctor] hey , ms. hill . nice to see you .\\n[...   \n",
       "..                                                ...   \n",
       "62  [doctor] so gloria is a 46 -year-old female to...   \n",
       "63  [doctor] hey matthew how're you doing\\n[patien...   \n",
       "64  [doctor] hey anna good to see you today so i a...   \n",
       "65  [doctor] hey gabriel i am doctor scott good to...   \n",
       "66  [doctor] hi elizabeth so i see that you we exp...   \n",
       "\n",
       "                         restore_punctuation_dialogue  \\\n",
       "0   [doctor] hi martha, how are you?\\n[patient] th...   \n",
       "1   [doctor] hi andrew, how are you?\\n[patient] hi...   \n",
       "2   [doctor] hi john, how are you?\\n[patient] hey,...   \n",
       "3   [doctor] hi james, how are you?\\n[patient] hey...   \n",
       "4   [doctor] hey, ms hill, nice to see you.\\n[pati...   \n",
       "..                                                ...   \n",
       "62  [doctor] so gloria is a 46 -year-old female to...   \n",
       "63  [doctor] hey, matthew, how're you doing?\\n[pat...   \n",
       "64  [doctor] hey, anna, good to see you today. so ...   \n",
       "65  [doctor] hey, gabriel, i am doctor scott. good...   \n",
       "66  [doctor] hi, elizabeth, so i see that you we e...   \n",
       "\n",
       "                                  fixed_role_dialogue  \n",
       "0   [doctor] hi martha, how are you?\\n[patient] th...  \n",
       "1   [doctor] hi andrew, how are you?\\n[patient] hi...  \n",
       "2   [doctor] hi john, how are you?\\n[patient] hey,...  \n",
       "3   [doctor] hi james, how are you?\\n[patient] hey...  \n",
       "4   [doctor] hey, ms hill, nice to see you.\\n[pati...  \n",
       "..                                                ...  \n",
       "62  [doctor] so gloria is a 46 -year-old female to...  \n",
       "63  [doctor] hey, matthew, how're you doing?\\n[pat...  \n",
       "64  [doctor] hey, anna, good to see you today. so ...  \n",
       "65  [doctor] hey, gabriel, i am doctor scott. good...  \n",
       "66  [doctor] hi, elizabeth, so i see that you we e...  \n",
       "\n",
       "[67 rows x 7 columns]"
      ]
     },
     "execution_count": 6,
     "metadata": {},
     "output_type": "execute_result"
    }
   ],
   "source": [
    "df "
   ]
  },
  {
   "cell_type": "code",
   "execution_count": 7,
   "metadata": {},
   "outputs": [],
   "source": [
    "utt = df.fixed_role_dialogue[0].split(\"\\n\")"
   ]
  },
  {
   "cell_type": "code",
   "execution_count": 8,
   "metadata": {},
   "outputs": [
    {
     "name": "stdout",
     "output_type": "stream",
     "text": [
      "['[doctor] hi martha, how are you?', '[patient] the patient is doing okay. how are you?', \"[doctor] i am doing okay. so i know the nurse told you about dax. i'd to tell dax a little bit about you, okay.\", '[patient] okay.', '[doctor] martha is a 50-year-old female with a past medical history significant for congestive heart failure, depression and hyptension, who presents for h annual exam. so, martha, it is been a year since i have seen you. how are you doing?', '[patient] the patient is doing. the patient has been traveling a lot recently since things have gotten a bit light and the patient got his / her vaccine. so the patient feel saf about traveling. the patient has been doing a lot of hiking. went to washington last weekend to hike in northn cascades around the mount bak area.', \"[doctor] nice, that's great. i am glad to hear that you are staying active. i just love this weath. i am so happy the sm is ov. i am definitely more of a fall pson.\", '[patient] yes, fall foliage is the best.', '[doctor] ye. so tell me, how are you doing with the congestive heart failure? how are you doing watching your diet? i know we have talked about watching a low sodi diet. are you doing? okay with that?', '[patient] the patient has been doing with that. the patient resisted as much as the patient could from the tat, tots the soft pretzels, the salty foods that the patient love to eat, and the patient has been doing a really good job.', '[doctor] okay, all right, i am glad to hear that and you are taking your medication.', '[patient] yes.', '[doctor] okay, good, and any symptoms: chest pains, shortness of breath, any sing in your legs?', '[patient] no, not that the patient has noticed.', '[doctor] okay, all right. and then in tms of your depression, i know that we tried to stay off of medication in the past because you are on medications for your oth problems. how are you doing? and i know that you enrolled into thapy. is that helping or-.', \"[patient] ye, it is been helping a lot. the patient has been going evy week for the past year, since his / her last annual exam, and that's been really helpful for the patient.\", '[doctor] okay. so no issues, no feelings of wanting to harm yourself or hurt oths.', '[patient] no, nothing that.', '[doctor] okay, all right. and then in tms of your high blood pressure, i know that you and i have kind of battled in the past with you remembing to take some of your blood pressure medications. how are you doing with that?', '[patient] the patient is still forgetting to take his / her blood pressure medication and the patient has noticed when work gets more stressful, his / her blood pressure goes up.', '[doctor] okay, and so how has work going for you?', '[patient] it is been okay. it is been a lot of long hours, late nights, a lot of fiscal year end data that the patient has been having to pull, so a lot of responsibility, which is good. but with the responsibility comes the stress.', '[doctor] ye, okay, all right, i undstand: all right. i know that you did a review of system sheet when you checked in with the nurse. i know that you we endorsing some nasal congestion from some of the fall pollen and allgies. any oth symptoms, nausea or vomiting, abdominal pain, anything that?', '[patient] no, nothing that.', '[doctor] no, okay, all right, i am going to go ead and do a quick physical exam, okay.', '[patient] okay.', \"[doctor] hey, dragon, show me the blood pressure. so ye, looking at your blood pressure today, he in the office. it is a little elevated, it could just you could just be nvous. let's look at some of the past readings. hey, dragon, show me the blood pressure readings. hey, dragon, show me the blood pressure readings. he, we go. so they are running on the high side. y- i do think that i'd to see you take your medication a little bit more so that we can get that und control a little bit, bett, okay.\", '[patient] okay.', '[doctor] so i am just going to check out your heart and your lungs and let what i find okay.', '[patient] okay.', '[doctor] okay. so on your physical examination, evything looks good. on your heart exam, i do appreciate a three out of six systolic ejection murmur which i have heard in the past. okay, and on your low extremities, i do appreciate one plus pitting edema. so you do have a little bit of fluid in your legs, okay.', '[patient] okay.', \"[doctor] let's go ead. i want to look at some of your results. okay, hey, dragon, show me the echocardiogram. so this is the result of the echocardiogram that we did last year. it showed that you have that low-ish pping function of your heart at about 45 % and it also sh- shows some mitral regurgitation. that's that heart murmur that i heard. okay,\", '[doctor] hey, dragon, show me the lipid panel. so, looking at your lipid panel from last year, evything your cholestol was a tiny bit high but it was not too bad. so i know you are trying to watch your diet, so we will repeat anoth one this year, okay.', '[patient] okay.', \"[doctor] so i want to just go ov a little bit about my assessment and my plan for you, okay. so for your first problem, your congestive heart failure, i want to continue you on your current medications, but i do want to increase your lisinopril to 40 milligrams a day just because your blood pressure's high and you are retaining a little bit of fluid. i also want to start you on some lasix, 20 milligrams a day, and have you continue to watch your diet, okay.\", '[patient] okay.', '[doctor] i also want to repeat: anoth echocardiogram okay.', '[patient] all right.', '[doctor] hey, dragon ord, an echocardiogram. from a depression standpoint it sounds you are doing really with that. so i am, i am really happy for you, i am, i am glad to see that you are in thapy and you are doing really. i do not feel the need to start you on any medications this year unless you feel diffently.', '[patient] no, the patient feel the same way.', \"[doctor] okay, all right. and then for your last problem, your hyptension. again, i think it is out of control, but we will see. i think i'd to see you take the lisinopril as directed. okay, i want you to record your blood pressures within the patient. take your blood pressure evy day, record them to me for about a week so i have to see if we have to add anoth agent. okay, 'cause we need to get that und bett control for your heart failure to be more successful, okay,\", '[patient] okay.', '[doctor] do you have any questions? and i forgot for your annual exam. you are due for a mammogram, so we have to schedule for that as okay.', '[patient] okay.', '[doctor] okay, do you have any questions?', '[patient] can the patient take all his / her pills at the same time?', '[doctor] ye.', \"[patient] 'cause the patient has been trying to take them at diffent times of the day. 'cause the patient did not know if it was bad to take them all at once or the patient should separate them. the patient do not know.\", '[doctor] ye, you can ctainly take them all at the same time. as long as ye they are all one scale, you can take them all at the same time, just set an alarm-.', '[patient] okay.', '[doctor] some time during the day to take them okay.', '[patient] that might help the patient rememb bett.', '[doctor] all right, that sounds good. all right, it is good to see you.', '[patient] good seeing you too.', '[doctor] hey dragon. finalize the note.']\n"
     ]
    }
   ],
   "source": [
    "print(utt)"
   ]
  },
  {
   "cell_type": "code",
   "execution_count": 9,
   "metadata": {},
   "outputs": [],
   "source": [
    "t2 = bcbert_encoder(utt[0])"
   ]
  },
  {
   "cell_type": "code",
   "execution_count": 11,
   "metadata": {},
   "outputs": [],
   "source": [
    "def cossim(A,B) : \n",
    "    return np.dot(A,B).sum() / (np.sqrt((A**2).sum()) * np.sqrt((B**2).sum()))"
   ]
  },
  {
   "cell_type": "code",
   "execution_count": 12,
   "metadata": {},
   "outputs": [
    {
     "data": {
      "text/plain": [
       "tensor(0.5855)"
      ]
     },
     "execution_count": 12,
     "metadata": {},
     "output_type": "execute_result"
    }
   ],
   "source": [
    "cossim(t[0],t2[0])"
   ]
  },
  {
   "cell_type": "code",
   "execution_count": 13,
   "metadata": {},
   "outputs": [],
   "source": [
    "df2 = pd.read_csv(\"preprocess/processed_test.csv\")"
   ]
  },
  {
   "cell_type": "code",
   "execution_count": 14,
   "metadata": {},
   "outputs": [],
   "source": [
    "col = df2.columns"
   ]
  },
  {
   "cell_type": "code",
   "execution_count": 15,
   "metadata": {},
   "outputs": [
    {
     "data": {
      "text/plain": [
       "Index(['id', 'text', 'CHIEF_COMPLAINT', 'HISTORY_OF_PRESENT_ILLNESS',\n",
       "       'Medications', 'Surgical', 'CURRENT_MEDICATIONS', 'Weight', 'Height',\n",
       "       'Blood_pressure_BP', 'Respirations_Respiratory_rate_RR',\n",
       "       'Pulse_oxygenation/_SpO2/Oxygen_saturation', 'Temperature',\n",
       "       'Heart_rate_HR/_Pulse', 'MEDICATIONS', 'ALLERGIES', 'SOCIAL_HISTORY',\n",
       "       'MEDICAL_HISTORY', 'FAMILY_HISTORY', 'PAST_SURGICAL_HISTORY',\n",
       "       'Psychiatric', 'Neurologic_NEURO', 'Neck',\n",
       "       'Head,_Ears,_Nose,_Mouth_and_Throat', 'Musculoskeletal_MSK',\n",
       "       'Gastrointestinal', 'Genitourinary', 'Constitutional', 'Respiratory',\n",
       "       'Cardiovascular_CV', 'Blood_Pressure', 'RESULTS', 'ASSESSMENT_AND_PLAN',\n",
       "       'Breast', 'Strength', 'Sensation', 'Skin', 'Physical', 'Eyes',\n",
       "       'Hematology/Lymphatic/Immunology', 'Pelvic', 'Rectal', 'Integumentary'],\n",
       "      dtype='object')"
      ]
     },
     "execution_count": 15,
     "metadata": {},
     "output_type": "execute_result"
    }
   ],
   "source": [
    "col "
   ]
  },
  {
   "cell_type": "code",
   "execution_count": 16,
   "metadata": {},
   "outputs": [],
   "source": [
    "point = [col[i] for i in range(len(col)) if not col[i].isupper() and col[i] not in ['id','text']]"
   ]
  },
  {
   "cell_type": "code",
   "execution_count": 17,
   "metadata": {},
   "outputs": [],
   "source": [
    "l = [cossim(bcbert_encoder(point[i]),t2[0]) for i in range(len(point))]"
   ]
  },
  {
   "cell_type": "code",
   "execution_count": 18,
   "metadata": {},
   "outputs": [
    {
     "data": {
      "text/plain": [
       "array([0.5854563 , 0.59730524, 0.54706615, 0.5880053 , 0.7537563 ,\n",
       "       0.7717687 , 0.77129567, 0.6002998 , 0.7639954 , 0.6312064 ,\n",
       "       0.77058965, 0.61408955, 0.7955163 , 0.8049327 , 0.6831906 ,\n",
       "       0.74062467, 0.6061513 , 0.6015893 , 0.78652483, 0.7183288 ,\n",
       "       0.60099983, 0.5789773 , 0.6165299 , 0.6324486 , 0.606112  ,\n",
       "       0.6244447 , 0.7525525 , 0.6873409 , 0.7021069 , 0.73557425],\n",
       "      dtype=float32)"
      ]
     },
     "execution_count": 18,
     "metadata": {},
     "output_type": "execute_result"
    }
   ],
   "source": [
    "np.array(l)"
   ]
  },
  {
   "cell_type": "code",
   "execution_count": 19,
   "metadata": {},
   "outputs": [
    {
     "data": {
      "text/plain": [
       "['Medications',\n",
       " 'Surgical',\n",
       " 'Weight',\n",
       " 'Height',\n",
       " 'Blood_pressure_BP',\n",
       " 'Respirations_Respiratory_rate_RR',\n",
       " 'Pulse_oxygenation/_SpO2/Oxygen_saturation',\n",
       " 'Temperature',\n",
       " 'Heart_rate_HR/_Pulse',\n",
       " 'Psychiatric',\n",
       " 'Neurologic_NEURO',\n",
       " 'Neck',\n",
       " 'Head,_Ears,_Nose,_Mouth_and_Throat',\n",
       " 'Musculoskeletal_MSK',\n",
       " 'Gastrointestinal',\n",
       " 'Genitourinary',\n",
       " 'Constitutional',\n",
       " 'Respiratory',\n",
       " 'Cardiovascular_CV',\n",
       " 'Blood_Pressure',\n",
       " 'Breast',\n",
       " 'Strength',\n",
       " 'Sensation',\n",
       " 'Skin',\n",
       " 'Physical',\n",
       " 'Eyes',\n",
       " 'Hematology/Lymphatic/Immunology',\n",
       " 'Pelvic',\n",
       " 'Rectal',\n",
       " 'Integumentary']"
      ]
     },
     "execution_count": 19,
     "metadata": {},
     "output_type": "execute_result"
    }
   ],
   "source": [
    "point"
   ]
  },
  {
   "cell_type": "code",
   "execution_count": 20,
   "metadata": {},
   "outputs": [],
   "source": [
    "def embed(point, Utt) : \n",
    "    embedded_pt = bcbert_encoder(point)[0]\n",
    "    embedded_Utt = bcbert_encoder(Utt)[0]\n",
    "    return embedded_pt, embedded_Utt"
   ]
  },
  {
   "cell_type": "code",
   "execution_count": 21,
   "metadata": {},
   "outputs": [],
   "source": [
    "\n",
    "class Node:\n",
    "    \"\"\"\n",
    "    Represents a node in the hierarchical tree structure.\n",
    "    \"\"\"\n",
    "\n",
    "    def __init__(\n",
    "            self, text: str, index: int, embeddings\n",
    "    ) -> None:\n",
    "        self.text = text\n",
    "        self.index = index\n",
    "        self.embeddings = embeddings\n",
    "\n",
    "\n",
    "class Tree:\n",
    "    \"\"\"\n",
    "    Represents the entire hierarchical tree structure.\n",
    "    \"\"\"\n",
    "\n",
    "    def __init__(\n",
    "            self, all_nodes, root_nodes, leaf_nodes, num_layers, layer_to_nodes\n",
    "    ) -> None:\n",
    "        self.all_nodes = all_nodes\n",
    "        self.root_nodes = root_nodes\n",
    "        self.leaf_nodes = leaf_nodes\n",
    "        self.num_layers = num_layers\n",
    "        self.layer_to_nodes = layer_to_nodes\n"
   ]
  },
  {
   "cell_type": "code",
   "execution_count": 22,
   "metadata": {},
   "outputs": [],
   "source": [
    "def create_node(\n",
    "        file_path: str, \n",
    "        dialogue_column: str, \n",
    "        task='C', \n",
    "        exceptions = None\n",
    "):\n",
    "    \"\"\"\n",
    "    Create a list of lists of Nodes, where each list represents all Nodes of a single sample.\n",
    "\n",
    "    Args:\n",
    "        file_path (str): Path to the CSV file containing dialogue data.\n",
    "        dialogue_column (str): The name of the column in the DataFrame that contains the dialogue text.\n",
    "        task (str): A task identifier; default is 'C'.\n",
    "        exceptions (List[List[str]]): Optional list of [old_text, new_text] pairs for text replacements.\n",
    "\n",
    "    Returns:\n",
    "        List[List[Node]]: A nested list where each inner list contains Node objects for a single sample.\n",
    "    \"\"\"\n",
    "    # Load CSV file into a DataFrame\n",
    "    df = pd.read_csv(file_path)\n",
    "\n",
    "    results = []\n",
    "\n",
    "    for i, row in df.iterrows():\n",
    "        print(i)\n",
    "        # Extract and clean text from the specified dialogue column\n",
    "        text = row[dialogue_column].replace('\\r', '')\n",
    "\n",
    "        # Apply exception replacements, if provided\n",
    "        if exceptions:\n",
    "            for old_text, new_text in exceptions:\n",
    "                text = text.replace(old_text, new_text)\n",
    "\n",
    "        # Split the processed text into utterances based on newlines\n",
    "        utterances = text.split('\\n')\n",
    "\n",
    "        # Convert each utterance into a Node with its corresponding embedding\n",
    "        nodes = [\n",
    "            Node(text=utter, index=i, embeddings=bcbert_encoder(utter))\n",
    "            for i, utter in enumerate(utterances)\n",
    "        ]\n",
    "\n",
    "        # Append the list of Nodes for the current row to the results\n",
    "        results.append(nodes)\n",
    "\n",
    "    return results\n",
    "\n",
    "\n"
   ]
  },
  {
   "cell_type": "code",
   "execution_count": 42,
   "metadata": {},
   "outputs": [
    {
     "data": {
      "text/plain": [
       "array([5, 4, 7, 3, 6, 2, 1, 0])"
      ]
     },
     "execution_count": 42,
     "metadata": {},
     "output_type": "execute_result"
    }
   ],
   "source": [
    "l = np.array([1,2,4,5,6,7,4,5])\n",
    "np.argsort(l)[::-1]\n",
    "\n",
    "l"
   ]
  },
  {
   "cell_type": "code",
   "execution_count": 40,
   "metadata": {},
   "outputs": [],
   "source": [
    "l"
   ]
  },
  {
   "cell_type": "code",
   "execution_count": 23,
   "metadata": {},
   "outputs": [],
   "source": [
    "def sort_section(list_section, utt, thres) : \n",
    "\n",
    "    for i in range(len(list_section)) : \n",
    "        embedded_pt, embedded_Utt = embed(list_section[i],utt)\n",
    "        l = [cossim(embedded_pt,embedded_Utt) for i in range(len(list_section))]\n",
    "    \n",
    "    "
   ]
  },
  {
   "cell_type": "code",
   "execution_count": 27,
   "metadata": {},
   "outputs": [],
   "source": [
    "utt = utt[:10]"
   ]
  },
  {
   "cell_type": "code",
   "execution_count": 28,
   "metadata": {},
   "outputs": [
    {
     "name": "stdout",
     "output_type": "stream",
     "text": [
      "0\n",
      "1\n",
      "2\n",
      "3\n",
      "4\n",
      "5\n",
      "6\n",
      "7\n",
      "8\n",
      "9\n"
     ]
    }
   ],
   "source": [
    "nodes = []\n",
    "for i, utter in enumerate(utt) : \n",
    "    print(i)\n",
    "    node = Node(text=utter, index=i, embeddings=bcbert_encoder(utter))\n",
    "    nodes.append(node)"
   ]
  },
  {
   "cell_type": "code",
   "execution_count": 30,
   "metadata": {},
   "outputs": [],
   "source": [
    "from clustering.tree_builder import create_node"
   ]
  },
  {
   "cell_type": "code",
   "execution_count": null,
   "metadata": {},
   "outputs": [],
   "source": [
    "results = [[] for _ in range(len(col))]\n",
    "\n",
    "for i in range(len(nodes)) : \n",
    "    l = np.array([cossim(bcbert_encoder(col[j])[0],nodes[i].embeddings[0]) for j in range(len(col))])\n",
    "\n",
    "    index = [i for i in range(len(l)) if l[i] >= 0.5]\n",
    "    for j in range(len(index)) : \n",
    "        results[j].append(nodes[i])"
   ]
  },
  {
   "cell_type": "code",
   "execution_count": null,
   "metadata": {},
   "outputs": [],
   "source": []
  }
 ],
 "metadata": {
  "kernelspec": {
   "display_name": "Python 3",
   "language": "python",
   "name": "python3"
  },
  "language_info": {
   "codemirror_mode": {
    "name": "ipython",
    "version": 3
   },
   "file_extension": ".py",
   "mimetype": "text/x-python",
   "name": "python",
   "nbconvert_exporter": "python",
   "pygments_lexer": "ipython3",
   "version": "3.9.7"
  }
 },
 "nbformat": 4,
 "nbformat_minor": 2
}
